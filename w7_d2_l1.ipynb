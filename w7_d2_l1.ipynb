{
 "cells": [
  {
   "cell_type": "markdown",
   "id": "fa2624ff",
   "metadata": {},
   "source": [
    "# Lab | Inferential statistics - T-test & P-value\n",
    "\n",
    "### Instructions\n",
    "\n",
    "1. *One tailed t-test* - In a packing plant, a machine packs cartons with jars. It is supposed that a new machine will pack faster on the average than the machine currently used. To test that hypothesis, the times it takes each machine to pack ten cartons are recorded. The results, in seconds, are shown in the tables in the file `files_for_lab/machine.txt`.\n",
    "   Assume that there is sufficient evidence to conduct the t test, does the data provide sufficient evidence to show if one machine is better than the other?\n",
    "\n",
    "2. *Matched Pairs Test* - In this challenge we will compare dependent samples of data describing our Pokemon (file `files_for_lab/pokemon.csv`). Our goal is to see whether there is a significant difference between each Pokemon's defense and attack scores. Our hypothesis is that the defense and attack scores are equal. Compare the two columns to see if there is a statistically significant difference between them and comment your result.\n",
    "\n",
    "\n",
    "# OPTIONAL PART | Inferential statistics - ANOVA\n",
    "\n",
    "Note: The following lab is divided in 2 sections which represent activities 3 and 4.\n",
    "\n",
    "## Part 1\n",
    "\n",
    "In this activity, we will look at another example. Your task is to understand the problem and write down all the steps to set up ANOVA. After the next lesson, we will ask you to solve this problem using Python. Here are the steps that you would need to work on:\n",
    "    - Null hypothesis\n",
    "    - Alternate hypothesis\n",
    "    - Level of significance\n",
    "    - Test statistic\n",
    "    - P-value\n",
    "    - F table\n",
    "\n",
    "### Context\n",
    "\n",
    "Suppose you are working as an analyst in a microprocessor chip manufacturing plant. You have been given the task of analyzing a plasma etching process with respect to changing Power (in Watts) of the plasma beam. Data was collected and provided to you to conduct statistical analysis and check if changing the power of the plasma beam has any effect on the etching rate by the machine. You will conduct ANOVA and check if there is any difference in the mean etching rate for different levels of power. You can find the data `anova_lab_data.xlsx` file in the `files_for_lab` folder  \n",
    "\n",
    "- State the null hypothesis\n",
    "- State the alternate hypothesis\n",
    "- What is the significance level\n",
    "- What are the degrees of freedom of model, error terms, and total DoF\n",
    "\n",
    "Data was collected randomly and provided to you in the table as shown: [link to the image - Data](https://education-team-2020.s3-eu-west-1.amazonaws.com/data-analytics/7.05/7.05-lab_data.png)\n",
    "\n",
    "\n",
    "## Part 2\n",
    "\n",
    "- In this section, use the Python to conduct ANOVA.\n",
    "- What conclusions can you draw from the experiment and why?"
   ]
  },
  {
   "cell_type": "code",
   "execution_count": 3,
   "id": "e74e0e33",
   "metadata": {},
   "outputs": [],
   "source": [
    "# Import Libraries\n",
    "import pandas as pd\n",
    "import numpy as np\n",
    "import scipy.stats as st\n",
    "import matplotlib.pyplot as plt\n",
    "import seaborn as sns"
   ]
  },
  {
   "cell_type": "code",
   "execution_count": 35,
   "id": "024781bc",
   "metadata": {},
   "outputs": [
    {
     "data": {
      "text/html": [
       "<div>\n",
       "<style scoped>\n",
       "    .dataframe tbody tr th:only-of-type {\n",
       "        vertical-align: middle;\n",
       "    }\n",
       "\n",
       "    .dataframe tbody tr th {\n",
       "        vertical-align: top;\n",
       "    }\n",
       "\n",
       "    .dataframe thead th {\n",
       "        text-align: right;\n",
       "    }\n",
       "</style>\n",
       "<table border=\"1\" class=\"dataframe\">\n",
       "  <thead>\n",
       "    <tr style=\"text-align: right;\">\n",
       "      <th></th>\n",
       "      <th>New machine</th>\n",
       "      <th>Old machine</th>\n",
       "    </tr>\n",
       "  </thead>\n",
       "  <tbody>\n",
       "    <tr>\n",
       "      <th>0</th>\n",
       "      <td>42.1</td>\n",
       "      <td>42.7</td>\n",
       "    </tr>\n",
       "    <tr>\n",
       "      <th>1</th>\n",
       "      <td>41.0</td>\n",
       "      <td>43.6</td>\n",
       "    </tr>\n",
       "    <tr>\n",
       "      <th>2</th>\n",
       "      <td>41.3</td>\n",
       "      <td>43.8</td>\n",
       "    </tr>\n",
       "    <tr>\n",
       "      <th>3</th>\n",
       "      <td>41.8</td>\n",
       "      <td>43.3</td>\n",
       "    </tr>\n",
       "    <tr>\n",
       "      <th>4</th>\n",
       "      <td>42.4</td>\n",
       "      <td>42.5</td>\n",
       "    </tr>\n",
       "  </tbody>\n",
       "</table>\n",
       "</div>"
      ],
      "text/plain": [
       "   New machine  Old machine\n",
       "0         42.1         42.7\n",
       "1         41.0         43.6\n",
       "2         41.3         43.8\n",
       "3         41.8         43.3\n",
       "4         42.4         42.5"
      ]
     },
     "execution_count": 35,
     "metadata": {},
     "output_type": "execute_result"
    }
   ],
   "source": [
    "machine = pd.read_csv(\"/Users/robertkammerer/Ironhack/07_Week/day2_labs/lab-t-tests-p-values/files_for_lab/machine.csv\")\n",
    "machine.head()\n"
   ]
  },
  {
   "cell_type": "code",
   "execution_count": 40,
   "id": "36bf7446",
   "metadata": {},
   "outputs": [
    {
     "name": "stdout",
     "output_type": "stream",
     "text": [
      "pop mean new:  42.14\n",
      "pop mean old:  43.23\n"
     ]
    }
   ],
   "source": [
    "print(\"pop mean new: \",machine['New machine'].mean())\n",
    "print(\"pop mean old: \",round(machine['Old machine'].mean(),2))"
   ]
  },
  {
   "cell_type": "markdown",
   "id": "49a79d1d",
   "metadata": {},
   "source": [
    "##### State the Hypothesis\n",
    "\n",
    "H0: new machine is equal or worse than the old machine $$H0: \\mu ≥ 43.23$$\n",
    "\n",
    "\n",
    "H1: new machine is better than the old machine $$H1: \\mu < 43.23$$\n",
    "\n",
    "##### Significance level 0.05"
   ]
  },
  {
   "cell_type": "code",
   "execution_count": 43,
   "id": "1536f9a0",
   "metadata": {},
   "outputs": [
    {
     "name": "stdout",
     "output_type": "stream",
     "text": [
      "Population mean is: 42.14\n",
      "Population standard deviation is: 0.68\n",
      "\n",
      "Our sample mean is: 42.34\n",
      "Our sample standard deviation is: 0.71\n",
      "The sem is: 0.13\n",
      "\n",
      "Our statistic is: 1.54\n",
      "The p_value corresponding to our statistic is: 0.90\n",
      "The significance level is set to 0.05\n",
      "We accept the H0?\n"
     ]
    }
   ],
   "source": [
    "# not taking a sample since the dataset is super small anyway\n",
    "m_sample = machine['New machine'].sample(5, random_state=1)\n",
    "m_sample.head(5)\n",
    "\n",
    "sample_mean = m_sample.mean()\n",
    "sample_std = m_sample.std(ddof=1)\n",
    "pop_mean = machine['New machine'].mean()\n",
    "pop_std = machine['New machine'].std()\n",
    "sem = sample_std/np.sqrt(30)\n",
    "print(\"Population mean is: {:.2f}\".format(pop_mean))\n",
    "print(\"Population standard deviation is: {:.2f}\".format(pop_std))\n",
    "print()\n",
    "print(\"Our sample mean is: {:.2f}\".format(sample_mean))\n",
    "print(\"Our sample standard deviation is: {:.2f}\".format(sample_std))\n",
    "print(\"The sem is: {:.2f}\".format(sem))\n",
    "print()\n",
    "t = (sample_mean - pop_mean) / sem\n",
    "print(\"Our statistic is: {:.2f}\".format(t))\n",
    "print(\"The p_value corresponding to our statistic is: {:.2f}\".format(st.t.cdf(t,df = len(m_sample)-1)))\n",
    "print(\"The significance level is set to 0.05\")\n",
    "print(\"We accept the H0?\")"
   ]
  },
  {
   "cell_type": "code",
   "execution_count": 44,
   "id": "42b390e2",
   "metadata": {},
   "outputs": [],
   "source": [
    "# Test would suggest to Accept the H0, which would be a error type I"
   ]
  },
  {
   "cell_type": "markdown",
   "id": "192d6c93",
   "metadata": {},
   "source": [
    "### Matched Pairs Test\n",
    "\n",
    "In this challenge we will compare dependent samples of data describing our Pokemon (file files_for_lab/pokemon.csv). Our goal is to see whether there is a significant difference between each Pokemon's defense and attack scores. Our hypothesis is that the defense and attack scores are equal. Compare the two columns to see if there is a statistically significant difference between them and comment your result."
   ]
  },
  {
   "cell_type": "code",
   "execution_count": 8,
   "id": "702b212b",
   "metadata": {},
   "outputs": [
    {
     "data": {
      "text/html": [
       "<div>\n",
       "<style scoped>\n",
       "    .dataframe tbody tr th:only-of-type {\n",
       "        vertical-align: middle;\n",
       "    }\n",
       "\n",
       "    .dataframe tbody tr th {\n",
       "        vertical-align: top;\n",
       "    }\n",
       "\n",
       "    .dataframe thead th {\n",
       "        text-align: right;\n",
       "    }\n",
       "</style>\n",
       "<table border=\"1\" class=\"dataframe\">\n",
       "  <thead>\n",
       "    <tr style=\"text-align: right;\">\n",
       "      <th></th>\n",
       "      <th>#</th>\n",
       "      <th>Name</th>\n",
       "      <th>Type 1</th>\n",
       "      <th>Type 2</th>\n",
       "      <th>Total</th>\n",
       "      <th>HP</th>\n",
       "      <th>Attack</th>\n",
       "      <th>Defense</th>\n",
       "      <th>Sp. Atk</th>\n",
       "      <th>Sp. Def</th>\n",
       "      <th>Speed</th>\n",
       "      <th>Generation</th>\n",
       "      <th>Legendary</th>\n",
       "    </tr>\n",
       "  </thead>\n",
       "  <tbody>\n",
       "    <tr>\n",
       "      <th>0</th>\n",
       "      <td>1</td>\n",
       "      <td>Bulbasaur</td>\n",
       "      <td>Grass</td>\n",
       "      <td>Poison</td>\n",
       "      <td>318</td>\n",
       "      <td>45</td>\n",
       "      <td>49</td>\n",
       "      <td>49</td>\n",
       "      <td>65</td>\n",
       "      <td>65</td>\n",
       "      <td>45</td>\n",
       "      <td>1</td>\n",
       "      <td>False</td>\n",
       "    </tr>\n",
       "    <tr>\n",
       "      <th>1</th>\n",
       "      <td>2</td>\n",
       "      <td>Ivysaur</td>\n",
       "      <td>Grass</td>\n",
       "      <td>Poison</td>\n",
       "      <td>405</td>\n",
       "      <td>60</td>\n",
       "      <td>62</td>\n",
       "      <td>63</td>\n",
       "      <td>80</td>\n",
       "      <td>80</td>\n",
       "      <td>60</td>\n",
       "      <td>1</td>\n",
       "      <td>False</td>\n",
       "    </tr>\n",
       "    <tr>\n",
       "      <th>2</th>\n",
       "      <td>3</td>\n",
       "      <td>Venusaur</td>\n",
       "      <td>Grass</td>\n",
       "      <td>Poison</td>\n",
       "      <td>525</td>\n",
       "      <td>80</td>\n",
       "      <td>82</td>\n",
       "      <td>83</td>\n",
       "      <td>100</td>\n",
       "      <td>100</td>\n",
       "      <td>80</td>\n",
       "      <td>1</td>\n",
       "      <td>False</td>\n",
       "    </tr>\n",
       "    <tr>\n",
       "      <th>3</th>\n",
       "      <td>3</td>\n",
       "      <td>VenusaurMega Venusaur</td>\n",
       "      <td>Grass</td>\n",
       "      <td>Poison</td>\n",
       "      <td>625</td>\n",
       "      <td>80</td>\n",
       "      <td>100</td>\n",
       "      <td>123</td>\n",
       "      <td>122</td>\n",
       "      <td>120</td>\n",
       "      <td>80</td>\n",
       "      <td>1</td>\n",
       "      <td>False</td>\n",
       "    </tr>\n",
       "    <tr>\n",
       "      <th>4</th>\n",
       "      <td>4</td>\n",
       "      <td>Charmander</td>\n",
       "      <td>Fire</td>\n",
       "      <td>NaN</td>\n",
       "      <td>309</td>\n",
       "      <td>39</td>\n",
       "      <td>52</td>\n",
       "      <td>43</td>\n",
       "      <td>60</td>\n",
       "      <td>50</td>\n",
       "      <td>65</td>\n",
       "      <td>1</td>\n",
       "      <td>False</td>\n",
       "    </tr>\n",
       "  </tbody>\n",
       "</table>\n",
       "</div>"
      ],
      "text/plain": [
       "   #                   Name Type 1  Type 2  Total  HP  Attack  Defense  \\\n",
       "0  1              Bulbasaur  Grass  Poison    318  45      49       49   \n",
       "1  2                Ivysaur  Grass  Poison    405  60      62       63   \n",
       "2  3               Venusaur  Grass  Poison    525  80      82       83   \n",
       "3  3  VenusaurMega Venusaur  Grass  Poison    625  80     100      123   \n",
       "4  4             Charmander   Fire     NaN    309  39      52       43   \n",
       "\n",
       "   Sp. Atk  Sp. Def  Speed  Generation  Legendary  \n",
       "0       65       65     45           1      False  \n",
       "1       80       80     60           1      False  \n",
       "2      100      100     80           1      False  \n",
       "3      122      120     80           1      False  \n",
       "4       60       50     65           1      False  "
      ]
     },
     "execution_count": 8,
     "metadata": {},
     "output_type": "execute_result"
    }
   ],
   "source": [
    "pokemon = pd.read_csv(\"/Users/robertkammerer/Ironhack/07_Week/day2_labs/lab-t-tests-p-values/files_for_lab/pokemon.csv\")\n",
    "pokemon.head()"
   ]
  },
  {
   "cell_type": "markdown",
   "id": "833cca83",
   "metadata": {},
   "source": [
    "##### State the Hypothesis\n",
    "\n",
    "$$H0: \\mu_{atk} = \\mu_{def} → \\mu_{atk} - \\mu_{def} = 0$$\n",
    "$$H1: \\mu_{atk} \\neq \\mu_{def} → \\mu_{atk} - \\mu_{def} \\neq 0$$"
   ]
  },
  {
   "cell_type": "code",
   "execution_count": 50,
   "id": "3c3ecadb",
   "metadata": {},
   "outputs": [
    {
     "data": {
      "text/html": [
       "<div>\n",
       "<style scoped>\n",
       "    .dataframe tbody tr th:only-of-type {\n",
       "        vertical-align: middle;\n",
       "    }\n",
       "\n",
       "    .dataframe tbody tr th {\n",
       "        vertical-align: top;\n",
       "    }\n",
       "\n",
       "    .dataframe thead th {\n",
       "        text-align: right;\n",
       "    }\n",
       "</style>\n",
       "<table border=\"1\" class=\"dataframe\">\n",
       "  <thead>\n",
       "    <tr style=\"text-align: right;\">\n",
       "      <th></th>\n",
       "      <th>Attack</th>\n",
       "      <th>Defense</th>\n",
       "      <th>difference</th>\n",
       "    </tr>\n",
       "  </thead>\n",
       "  <tbody>\n",
       "    <tr>\n",
       "      <th>108</th>\n",
       "      <td>30</td>\n",
       "      <td>50</td>\n",
       "      <td>-20</td>\n",
       "    </tr>\n",
       "    <tr>\n",
       "      <th>448</th>\n",
       "      <td>65</td>\n",
       "      <td>34</td>\n",
       "      <td>31</td>\n",
       "    </tr>\n",
       "    <tr>\n",
       "      <th>137</th>\n",
       "      <td>155</td>\n",
       "      <td>120</td>\n",
       "      <td>35</td>\n",
       "    </tr>\n",
       "    <tr>\n",
       "      <th>81</th>\n",
       "      <td>95</td>\n",
       "      <td>115</td>\n",
       "      <td>-20</td>\n",
       "    </tr>\n",
       "    <tr>\n",
       "      <th>144</th>\n",
       "      <td>55</td>\n",
       "      <td>50</td>\n",
       "      <td>5</td>\n",
       "    </tr>\n",
       "  </tbody>\n",
       "</table>\n",
       "</div>"
      ],
      "text/plain": [
       "     Attack  Defense  difference\n",
       "108      30       50         -20\n",
       "448      65       34          31\n",
       "137     155      120          35\n",
       "81       95      115         -20\n",
       "144      55       50           5"
      ]
     },
     "execution_count": 50,
     "metadata": {},
     "output_type": "execute_result"
    }
   ],
   "source": [
    "#Create Sample\n",
    "\n",
    "sample = pokemon[['Attack','Defense']].sample(30, random_state=3)\n",
    "sample['difference'] = sample['Attack']-sample['Defense']\n",
    "sample.head()"
   ]
  },
  {
   "cell_type": "code",
   "execution_count": 51,
   "id": "b28129c2",
   "metadata": {},
   "outputs": [
    {
     "data": {
      "text/plain": [
       "(-0.6666666666666666, 29.542877469796377)"
      ]
     },
     "execution_count": 51,
     "metadata": {},
     "output_type": "execute_result"
    }
   ],
   "source": [
    "sample_diff_mean, sample_diff_std = sample['difference'].mean(), sample['difference'].std(ddof=1)\n",
    "sample_diff_mean, sample_diff_std"
   ]
  },
  {
   "cell_type": "code",
   "execution_count": 52,
   "id": "bc86bd91",
   "metadata": {},
   "outputs": [
    {
     "name": "stdout",
     "output_type": "stream",
     "text": [
      "The mean of our samples differences is: -0.67\n",
      "The standard deviation of our samples differences is: 29.54\n",
      "Our t statistics is: -0.12\n"
     ]
    }
   ],
   "source": [
    "t = sample_diff_mean / ( sample_diff_std / np.sqrt(sample.shape[0]) )\n",
    "print(\"The mean of our samples differences is: {:.2f}\".format(sample_diff_mean))\n",
    "print(\"The standard deviation of our samples differences is: {:.2f}\".format(sample_diff_std))\n",
    "print(\"Our t statistics is: {:.2f}\".format(t))"
   ]
  },
  {
   "cell_type": "code",
   "execution_count": 53,
   "id": "d1d74ece",
   "metadata": {},
   "outputs": [
    {
     "data": {
      "text/plain": [
       "2.045229642132703"
      ]
     },
     "execution_count": 53,
     "metadata": {},
     "output_type": "execute_result"
    }
   ],
   "source": [
    "tc = st.t.ppf(1-(0.05/2),df= sample.shape[0] - 1)\n",
    "tc"
   ]
  },
  {
   "cell_type": "code",
   "execution_count": 54,
   "id": "dc6695c1",
   "metadata": {},
   "outputs": [
    {
     "data": {
      "text/plain": [
       "0.4512425543951809"
      ]
     },
     "execution_count": 54,
     "metadata": {},
     "output_type": "execute_result"
    }
   ],
   "source": [
    "st.t.cdf(t,df = sample.shape[0] - 1)"
   ]
  },
  {
   "cell_type": "code",
   "execution_count": 56,
   "id": "4d316687",
   "metadata": {},
   "outputs": [
    {
     "data": {
      "text/plain": [
       "Ttest_relResult(statistic=-0.12359946049379446, pvalue=0.9024851087903618)"
      ]
     },
     "execution_count": 56,
     "metadata": {},
     "output_type": "execute_result"
    }
   ],
   "source": [
    "st.ttest_rel(sample['Attack'],sample['Defense'])"
   ]
  },
  {
   "cell_type": "raw",
   "id": "acdc7f9e",
   "metadata": {},
   "source": [
    "Our t-statistic = -0.12  and our p-value = 0.45.\n",
    "\n",
    "We accept H0"
   ]
  }
 ],
 "metadata": {
  "kernelspec": {
   "display_name": "Python 3 (ipykernel)",
   "language": "python",
   "name": "python3"
  },
  "language_info": {
   "codemirror_mode": {
    "name": "ipython",
    "version": 3
   },
   "file_extension": ".py",
   "mimetype": "text/x-python",
   "name": "python",
   "nbconvert_exporter": "python",
   "pygments_lexer": "ipython3",
   "version": "3.9.7"
  }
 },
 "nbformat": 4,
 "nbformat_minor": 5
}
